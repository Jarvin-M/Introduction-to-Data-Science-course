{
 "cells": [
  {
   "cell_type": "code",
   "execution_count": 35,
   "metadata": {},
   "outputs": [],
   "source": [
    "import pandas as pd\n",
    "import numpy as np\n",
    "from sklearn.model_selection import train_test_split, KFold\n",
    "from sklearn.neighbors import KNeighborsClassifier\n",
    "from sklearn.utils import resample\n",
    "from sklearn.metrics import classification_report\n",
    "from sklearn.model_selection import GridSearchCV\n",
    "from sklearn.metrics import make_scorer, matthews_corrcoef\n",
    "\n",
    "data = pd.read_csv('data.csv', header=None).values\n",
    "labels = pd.read_csv('labels.csv',header=None).values\n",
    "\n",
    "training_set = data[:179,:]\n",
    "test_set = data[179:,:]\n",
    "\n"
   ]
  },
  {
   "cell_type": "code",
   "execution_count": 13,
   "metadata": {},
   "outputs": [],
   "source": [
    "# Base-line experiments (25/75 points): Perform N-fold cross validation experiments\n",
    "# (that includes preprocessing) with kNN and Decision Trees. Evaluate classwise training\n",
    "# and validation errors for different preprocessing and different settings (k for kNN and\n",
    "# pruning, kind of splits, etc. for DT). Use knowledge from your descriptive exploratory\n",
    "# analysis to improve the performance. \n",
    "\n",
    "#Do you observe overfitting? How do you tackle\n",
    "# it? KNN as well as Decision Trees are very intuitive interpretable classifiers. Can you\n",
    "# confirm certain findings from the exploratory analysis?\n",
    "\n",
    "collection = np.c_[training_set,labels]\n",
    "x =pd.DataFrame(collection)\n",
    "class1 = collection[collection[:,-1]==1] \n",
    "class2 = collection[collection[:,-1]==2] #length of class 2 is less than class 1\n",
    "\n",
    "#oversampling the data\n",
    "class2_upsampled = resample(class2, replace=True, n_samples = class1[:,0].size, random_state=10)\n",
    "combined_upsample = np.vstack((class1, class2_upsampled))\n",
    "\n",
    "\n",
    "#undersampling the data\n",
    "class1_undersampled = pd.DataFrame(class1).sample(random_state=1,n= class2[:,0].size).values\n",
    "combined_undersample = np.vstack((class1_undersampled,class2)) \n"
   ]
  },
  {
   "cell_type": "code",
   "execution_count": 84,
   "metadata": {},
   "outputs": [
    {
     "name": "stdout",
     "output_type": "stream",
     "text": [
      "     0         1         2\n",
      "0    1   uniform  0.981651\n",
      "1    1  distance  0.981651\n",
      "2    2   uniform  0.964559\n",
      "3    2  distance  0.981651\n",
      "4    3   uniform  0.964559\n",
      "5    3  distance  0.981651\n",
      "6    4   uniform  0.964559\n",
      "7    4  distance  0.981651\n",
      "8    5   uniform  0.964453\n",
      "9    5  distance  0.973128\n",
      "10   6   uniform  0.895948\n",
      "11   6  distance  0.973128\n",
      "12   7   uniform  0.868039\n",
      "13   7  distance  0.939359\n",
      "14   8   uniform  0.905924\n",
      "15   8  distance  0.956293\n",
      "16   9   uniform  0.905924\n",
      "17   9  distance  0.964816\n",
      "18  10   uniform  0.905924\n",
      "19  10  distance  0.974641\n",
      "20  11   uniform  0.897507\n",
      "21  11  distance  0.966224\n",
      "22  12   uniform  0.872884\n",
      "23  12  distance  0.966224\n",
      "24  13   uniform  0.863059\n",
      "25  13  distance  0.966224\n",
      "26  14   uniform  0.872990\n",
      "27  14  distance  0.974535\n",
      "28  15   uniform  0.872990\n",
      "29  15  distance  0.974535\n",
      "30  16   uniform  0.865848\n",
      "31  16  distance  0.966936\n",
      "32  17   uniform  0.855683\n",
      "33  17  distance  0.974535\n",
      "34  18   uniform  0.813893\n",
      "35  18  distance  0.966012\n",
      "36  19   uniform  0.848084\n",
      "37  19  distance  0.974535\n"
     ]
    }
   ],
   "source": [
    "#KNN with Grid Search CV\n",
    "\n",
    "scorer = make_scorer(matthews_corrcoef) \n",
    "# range of K nearest neighbor values\n",
    "k = np.arange(1,20) \n",
    "weight_options = [\"uniform\", \"distance\"]\n",
    "param_grid = dict(n_neighbors = k,weights=weight_options)\n",
    "\n",
    "scores =[]\n",
    "combinations =[]\n",
    "\n",
    "#Train_test split for oversampled data\n",
    "X_otrain, X_otest, Y_otrain, Y_otest = train_test_split(combined_upsample[:,:-1], combined_upsample[:,-1], test_size=0.3, random_state=10)\n",
    "for cvv in [10,20]:\n",
    "    \n",
    "    knn = KNeighborsClassifier()\n",
    "\n",
    "    gridsearch_knn = GridSearchCV(knn,param_grid, cv=cvv, n_jobs=-1, verbose=0, scoring=scorer)\n",
    "    gridsearch_knn.fit(X_otrain, Y_otrain)\n",
    "    mean_test_scores = gridsearch_knn.cv_results_['mean_test_score']  \n",
    "    \n",
    "#     combinations.append(np.c_[mean_test_scores])\n",
    "    \n",
    "    pairs = []\n",
    "    number_of_permutations = len(gridsearch_knn.cv_results_['params'])\n",
    "    for x in range(number_of_permutations):\n",
    "        pairs.append((gridsearch_knn.cv_results_['params'][x]['n_neighbors'],gridsearch_knn.cv_results_['params'][x]['weights'],gridsearch_knn.cv_results_['mean_test_score'][x]))\n",
    "\n",
    "print(pd.DataFrame(pairs))\n",
    "# print(gridsearch_knn.best_estimator_)"
   ]
  },
  {
   "cell_type": "code",
   "execution_count": 140,
   "metadata": {},
   "outputs": [
    {
     "data": {
      "text/plain": [
       "Text(0,0.5,'Mean Test Score')"
      ]
     },
     "execution_count": 140,
     "metadata": {},
     "output_type": "execute_result"
    },
    {
     "data": {
      "image/png": "[encoded data removed]",
      "text/plain": [
       "<Figure size 432x288 with 1 Axes>"
      ]
     },
     "metadata": {
      "needs_background": "light"
     },
     "output_type": "display_data"
    }
   ],
   "source": [
    "import matplotlib.pyplot as plt\n",
    "stacked = np.stack(pairs)\n",
    "x=stacked[stacked[:,1]=='uniform'][:,0]\n",
    "y= stacked[stacked[:,1]=='uniform'][:,2]\n",
    "y = [float(i) for i in y]\n",
    "\n",
    "x1=stacked[stacked[:,1]=='distance'][:,0]\n",
    "y1= stacked[stacked[:,1]=='distance'][:,2]\n",
    "\n",
    "y1 = [float(i) for i in y1]\n",
    "\n",
    "plt.plot(x,y,'b-',x1,y1,'r-')\n",
    "plt.xlabel('Value of K for KNN')\n",
    "plt.ylabel('Mean Test Score')\n"
   ]
  },
  {
   "cell_type": "code",
   "execution_count": null,
   "metadata": {},
   "outputs": [],
   "source": []
  }
 ],
 "metadata": {
  "kernelspec": {
   "display_name": "Python 3",
   "language": "python",
   "name": "python3"
  },
  "language_info": {
   "codemirror_mode": {
    "name": "ipython",
    "version": 3
   },
   "file_extension": ".py",
   "mimetype": "text/x-python",
   "name": "python",
   "nbconvert_exporter": "python",
   "pygments_lexer": "ipython3",
   "version": "3.7.0"
  }
 },
 "nbformat": 4,
 "nbformat_minor": 2
}
